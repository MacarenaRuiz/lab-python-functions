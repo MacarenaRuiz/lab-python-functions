{
 "cells": [
  {
   "cell_type": "markdown",
   "metadata": {},
   "source": [
    "# Lab | Functions"
   ]
  },
  {
   "cell_type": "markdown",
   "metadata": {
    "tags": []
   },
   "source": [
    "## Exercise: Managing Customer Orders with Functions\n",
    "\n",
    "In the previous exercise, you improved the code for managing customer orders by using loops and flow control. Now, let's take it a step further and refactor the code by introducing functions.\n",
    "\n",
    "Follow the steps below to complete the exercise:\n",
    "\n",
    "1. Define a function named `initialize_inventory` that takes `products` as a parameter. Inside the function, implement the code for initializing the inventory dictionary using a loop and user input.\n",
    "\n",
    "2. Define a function named `get_customer_orders` that takes no parameters. Inside the function, implement the code for prompting the user to enter the product names using a loop. The function should return the `customer_orders` set.\n",
    "\n",
    "3. Define a function named `update_inventory` that takes `customer_orders` and `inventory` as parameters. Inside the function, implement the code for updating the inventory dictionary based on the customer orders.\n",
    "\n",
    "4. Define a function named `calculate_order_statistics` that takes `customer_orders` and `products` as parameters. Inside the function, implement the code for calculating the order statistics (total products ordered, and percentage of unique products ordered). The function should return these values.\n",
    "\n",
    "5. Define a function named `print_order_statistics` that takes `order_statistics` as a parameter. Inside the function, implement the code for printing the order statistics.\n",
    "\n",
    "6. Define a function named `print_updated_inventory` that takes `inventory` as a parameter. Inside the function, implement the code for printing the updated inventory.\n",
    "\n",
    "7. Call the functions in the appropriate sequence to execute the program and manage customer orders.\n",
    "\n",
    "Hints for functions:\n",
    "\n",
    "- Consider the input parameters required for each function and their return values.\n",
    "- Utilize function parameters and return values to transfer data between functions.\n",
    "- Test your functions individually to ensure they work correctly.\n",
    "\n",
    "\n"
   ]
  },
  {
   "cell_type": "markdown",
   "metadata": {},
   "source": [
    "# 1. Define a function named `initialize_inventory` that takes `products` as a parameter. \n",
    "#Inside the function, implement the code for initializing the inventory dictionary using a loop and user input.\n",
    "\n",
    "products = ['hat','book','mug'] #list\n",
    "\n",
    "def initialize_inventory(products):  #function with parameters\n",
    "    inventory = {\"book\": 20, \"hat\": 10,\"mug\": 10} #dicction\n",
    "    \n",
    "    for i in products:\n",
    "        quest = int(input('How many products: '))\n",
    "        inventory[i] = quest\n",
    "    return inventory\n",
    "  \n",
    "initialize_inventory(products)"
   ]
  },
  {
   "cell_type": "code",
   "execution_count": 39,
   "metadata": {},
   "outputs": [],
   "source": [
    "products = ['hat','book','mug'] #list\n",
    "inventory = {\"book\": 20, \"hat\": 10,\"mug\": 10} #dicction\n",
    "\n",
    "def initialize_inventory(products):\n",
    "    for i in products:\n",
    "        quantity = input('How many products')\n",
    "        if quantity.isdigit():\n",
    "            inventory[i] = int(quantity)\n",
    "        else:\n",
    "            print('Please enter a valid number:')\n",
    "    return inventory"
   ]
  },
  {
   "cell_type": "code",
   "execution_count": 40,
   "metadata": {},
   "outputs": [
    {
     "name": "stdin",
     "output_type": "stream",
     "text": [
      "How many products 10\n",
      "How many products 10\n",
      "How many products 10\n"
     ]
    },
    {
     "data": {
      "text/plain": [
       "{'book': 10, 'hat': 10, 'mug': 10}"
      ]
     },
     "execution_count": 40,
     "metadata": {},
     "output_type": "execute_result"
    }
   ],
   "source": [
    " initialize_inventory(products)"
   ]
  },
  {
   "cell_type": "code",
   "execution_count": 41,
   "metadata": {},
   "outputs": [],
   "source": [
    "#2. Define a function named `get_customer_orders` that takes no parameters. Inside the function, implement the code for prompting the user to enter the product names using a loop. \n",
    "#The function should return the `customer_orders` set.\n",
    "\n",
    "def get_customers_orders(): #define function, no parameters\n",
    "    names = input('Enter the product names: ').split()\n",
    "    print(names)\n",
    "\n",
    "    return ('The products are: ',names)  "
   ]
  },
  {
   "cell_type": "code",
   "execution_count": 44,
   "metadata": {},
   "outputs": [
    {
     "name": "stdin",
     "output_type": "stream",
     "text": [
      "Enter the product names:  hat\n"
     ]
    },
    {
     "name": "stdout",
     "output_type": "stream",
     "text": [
      "['hat']\n"
     ]
    },
    {
     "data": {
      "text/plain": [
       "('The products are: ', ['hat'])"
      ]
     },
     "execution_count": 44,
     "metadata": {},
     "output_type": "execute_result"
    }
   ],
   "source": [
    "get_customers_orders()"
   ]
  },
  {
   "cell_type": "code",
   "execution_count": null,
   "metadata": {},
   "outputs": [],
   "source": [
    "print (set_1)"
   ]
  },
  {
   "cell_type": "code",
   "execution_count": 45,
   "metadata": {},
   "outputs": [],
   "source": [
    "#3. Define a function named `update_inventory` that takes `customer_orders` and `inventory` as parameters. Inside the function, implement the code for updating the inventory dictionary based on the customer orders.\n"
   ]
  },
  {
   "cell_type": "code",
   "execution_count": 46,
   "metadata": {},
   "outputs": [],
   "source": [
    "inventory = {'t-shirt': 20,'mug': 20, 'hat': 20, 'book': 20, 'keychain': 20}"
   ]
  },
  {
   "cell_type": "code",
   "execution_count": 47,
   "metadata": {},
   "outputs": [
    {
     "name": "stdin",
     "output_type": "stream",
     "text": [
      " How many products of this item t-shirt do you want:  20\n",
      " How many products of this item mug do you want:  20\n",
      " How many products of this item hat do you want:  20\n",
      " How many products of this item book do you want:  20\n",
      " How many products of this item keychain do you want:  20\n"
     ]
    },
    {
     "data": {
      "text/plain": [
       "{'t-shirt': 20, 'mug': 20, 'hat': 20, 'book': 20, 'keychain': 20}"
      ]
     },
     "execution_count": 47,
     "metadata": {},
     "output_type": "execute_result"
    }
   ],
   "source": [
    "\n",
    "#funcion updated_inventory\n",
    "#Input donde pido customers_orders\n",
    "#Update inventory\n",
    "\n",
    "products = [\"t-shirt\", \"mug\", \"hat\", \"book\", \"keychain\"]\n",
    "inventoryUpd = {}\n",
    "\n",
    "def updated_inventory(products):\n",
    "    for product in products:\n",
    "        customer_orders = input(f\" How many products of this item {product} do you want: \")\n",
    "        if customer_orders.isdigit():\n",
    "            inventoryUpd[product] = int(customer_orders)\n",
    "        else:\n",
    "                ('Must be a number')\n",
    "    return inventoryUpd\n",
    "    \n",
    "updated_inventory(products)"
   ]
  },
  {
   "cell_type": "code",
   "execution_count": 48,
   "metadata": {},
   "outputs": [
    {
     "name": "stdout",
     "output_type": "stream",
     "text": [
      "{'t-shirt': 0, 'mug': 0, 'hat': 0, 'book': 0, 'keychain': 0}\n"
     ]
    }
   ],
   "source": [
    "###### InventoryUpdated\n",
    "inventory['t-shirt'] = inventory['t-shirt'] - inventoryUpd['t-shirt']\n",
    "inventory['mug'] = inventory['mug'] - inventoryUpd['mug']\n",
    "inventory['hat'] = inventory['hat'] - inventoryUpd['hat']\n",
    "inventory['book'] = inventory['book'] - inventoryUpd['book']\n",
    "inventory['keychain'] = inventory['keychain'] - inventoryUpd['keychain']\n",
    "print(inventory)"
   ]
  },
  {
   "cell_type": "code",
   "execution_count": 49,
   "metadata": {},
   "outputs": [
    {
     "name": "stdout",
     "output_type": "stream",
     "text": [
      "TotalProductsOrdered:  5\n",
      "Pecentage of Unique Products:  1.0\n"
     ]
    },
    {
     "data": {
      "text/plain": [
       "<function __main__.calculated_order_statistics()>"
      ]
     },
     "execution_count": 49,
     "metadata": {},
     "output_type": "execute_result"
    }
   ],
   "source": [
    "#4. Define a function named `calculate_order_statistics` that takes `customer_orders` and `products` as parameters. \n",
    "#Inside the function, implement the code for calculating the order statistics (total products ordered, and percentage of unique products ordered).\n",
    "#The function should return these values.\n",
    "customer_orders = (\"t-shirt\", \"mug\", \"hat\", \"book\", \"keychain\")\n",
    "def calculated_order_statistics():\n",
    "\n",
    "    ordersCustomer = len(customer_orders)\n",
    "    print('TotalProductsOrdered: ', ordersCustomer)\n",
    "    \n",
    "    percentageofUniqueProducts = ordersCustomer/len(inventory)\n",
    "    print('Pecentage of Unique Products: ', percentageofUniqueProducts)\n",
    "    return(calculated_order_statistics)\n",
    "\n",
    "calculated_order_statistics()\n"
   ]
  },
  {
   "cell_type": "code",
   "execution_count": 50,
   "metadata": {},
   "outputs": [
    {
     "name": "stdout",
     "output_type": "stream",
     "text": [
      "Inventory updated:  {'t-shirt': 0, 'mug': 0, 'hat': 0, 'book': 0, 'keychain': 0}\n"
     ]
    }
   ],
   "source": [
    "#6. Define a function named `print_updated_inventory` that takes `inventory` as a parameter. \n",
    "#Inside the function, implement the code for printing the updated inventory.\n",
    "\n",
    "def print_updated_inventory():\n",
    "    inventory['t-shirt'] = inventory['t-shirt'] - inventoryUpd['t-shirt']\n",
    "    inventory['mug'] = inventory['mug'] - inventoryUpd['mug']\n",
    "    inventory['hat'] = inventory['hat'] - inventoryUpd['hat']\n",
    "    inventory['book'] = inventory['book'] - inventoryUpd['book']\n",
    "    inventory['keychain'] = inventory['keychain'] - inventoryUpd['keychain']\n",
    "print('Inventory updated: ', inventory)"
   ]
  },
  {
   "cell_type": "code",
   "execution_count": 51,
   "metadata": {},
   "outputs": [],
   "source": [
    "#7. Call the functions in the appropriate sequence to execute the program and manage customer orders.\n"
   ]
  },
  {
   "cell_type": "code",
   "execution_count": 53,
   "metadata": {},
   "outputs": [
    {
     "name": "stdin",
     "output_type": "stream",
     "text": [
      "How many products hat\n"
     ]
    },
    {
     "name": "stdout",
     "output_type": "stream",
     "text": [
      "Please enter a valid number:\n"
     ]
    },
    {
     "name": "stdin",
     "output_type": "stream",
     "text": [
      "How many products 5\n",
      "How many products 5\n",
      "How many products 5\n",
      "How many products 5\n",
      "Enter the product names:  mug\n"
     ]
    },
    {
     "name": "stdout",
     "output_type": "stream",
     "text": [
      "['mug']\n"
     ]
    },
    {
     "name": "stdin",
     "output_type": "stream",
     "text": [
      " How many products of this item t-shirt do you want:  hat\n",
      " How many products of this item mug do you want:  book\n",
      " How many products of this item hat do you want:  5\n",
      " How many products of this item book do you want:  5\n",
      " How many products of this item keychain do you want:  5\n"
     ]
    },
    {
     "name": "stdout",
     "output_type": "stream",
     "text": [
      "TotalProductsOrdered:  5\n",
      "Pecentage of Unique Products:  1.0\n"
     ]
    }
   ],
   "source": [
    "initialize_inventory(products)\n",
    "get_customers_orders()\n",
    "updated_inventory(products)\n",
    "calculated_order_statistics()\n",
    "print_updated_inventory()"
   ]
  },
  {
   "cell_type": "code",
   "execution_count": null,
   "metadata": {},
   "outputs": [],
   "source": []
  }
 ],
 "metadata": {
  "kernelspec": {
   "display_name": "Python 3",
   "language": "python",
   "name": "python3"
  },
  "language_info": {
   "codemirror_mode": {
    "name": "ipython",
    "version": 3
   },
   "file_extension": ".py",
   "mimetype": "text/x-python",
   "name": "python",
   "nbconvert_exporter": "python",
   "pygments_lexer": "ipython3",
   "version": "3.8.5"
  }
 },
 "nbformat": 4,
 "nbformat_minor": 5
}
